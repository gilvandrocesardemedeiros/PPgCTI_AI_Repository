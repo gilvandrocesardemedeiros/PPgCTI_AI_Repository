{
  "nbformat": 4,
  "nbformat_minor": 0,
  "metadata": {
    "colab": {
      "name": "Projeto1_Regressao_Linear.ipynb",
      "provenance": [],
      "collapsed_sections": []
    },
    "kernelspec": {
      "name": "python3",
      "display_name": "Python 3"
    },
    "language_info": {
      "name": "python"
    }
  },
  "cells": [
    {
      "cell_type": "code",
      "metadata": {
        "id": "vxrbaq5FmR7z"
      },
      "source": [
        "import pandas as pd\n",
        "import numpy as np\n",
        "import matplotlib.pyplot as plt"
      ],
      "execution_count": null,
      "outputs": []
    },
    {
      "cell_type": "code",
      "metadata": {
        "id": "7KrE14N-4VO9"
      },
      "source": [
        "dados = pd.read_csv(\"Planilha_Planejamento.csv\")"
      ],
      "execution_count": null,
      "outputs": []
    },
    {
      "cell_type": "code",
      "metadata": {
        "colab": {
          "base_uri": "https://localhost:8080/",
          "height": 771
        },
        "id": "7hK_OIaUHZv8",
        "outputId": "48253ece-0936-487b-9def-b86b7d95e2be"
      },
      "source": [
        "dados"
      ],
      "execution_count": null,
      "outputs": [
        {
          "output_type": "execute_result",
          "data": {
            "text/html": [
              "<div>\n",
              "<style scoped>\n",
              "    .dataframe tbody tr th:only-of-type {\n",
              "        vertical-align: middle;\n",
              "    }\n",
              "\n",
              "    .dataframe tbody tr th {\n",
              "        vertical-align: top;\n",
              "    }\n",
              "\n",
              "    .dataframe thead th {\n",
              "        text-align: right;\n",
              "    }\n",
              "</style>\n",
              "<table border=\"1\" class=\"dataframe\">\n",
              "  <thead>\n",
              "    <tr style=\"text-align: right;\">\n",
              "      <th></th>\n",
              "      <th>Mes</th>\n",
              "      <th>Salario_Vendedores</th>\n",
              "      <th>Investimento_Mercadoria</th>\n",
              "      <th>Investimento_Marketing</th>\n",
              "      <th>Faturamento</th>\n",
              "    </tr>\n",
              "  </thead>\n",
              "  <tbody>\n",
              "    <tr>\n",
              "      <th>0</th>\n",
              "      <td>1</td>\n",
              "      <td>2000</td>\n",
              "      <td>10000</td>\n",
              "      <td>4000</td>\n",
              "      <td>22000</td>\n",
              "    </tr>\n",
              "    <tr>\n",
              "      <th>1</th>\n",
              "      <td>2</td>\n",
              "      <td>2000</td>\n",
              "      <td>12000</td>\n",
              "      <td>4000</td>\n",
              "      <td>23000</td>\n",
              "    </tr>\n",
              "    <tr>\n",
              "      <th>2</th>\n",
              "      <td>3</td>\n",
              "      <td>2000</td>\n",
              "      <td>10000</td>\n",
              "      <td>3000</td>\n",
              "      <td>18000</td>\n",
              "    </tr>\n",
              "    <tr>\n",
              "      <th>3</th>\n",
              "      <td>4</td>\n",
              "      <td>2000</td>\n",
              "      <td>8000</td>\n",
              "      <td>2000</td>\n",
              "      <td>17000</td>\n",
              "    </tr>\n",
              "    <tr>\n",
              "      <th>4</th>\n",
              "      <td>5</td>\n",
              "      <td>4000</td>\n",
              "      <td>12000</td>\n",
              "      <td>4000</td>\n",
              "      <td>22000</td>\n",
              "    </tr>\n",
              "    <tr>\n",
              "      <th>5</th>\n",
              "      <td>6</td>\n",
              "      <td>4000</td>\n",
              "      <td>15000</td>\n",
              "      <td>5000</td>\n",
              "      <td>24000</td>\n",
              "    </tr>\n",
              "    <tr>\n",
              "      <th>6</th>\n",
              "      <td>7</td>\n",
              "      <td>4000</td>\n",
              "      <td>10000</td>\n",
              "      <td>5000</td>\n",
              "      <td>27000</td>\n",
              "    </tr>\n",
              "    <tr>\n",
              "      <th>7</th>\n",
              "      <td>8</td>\n",
              "      <td>4000</td>\n",
              "      <td>14000</td>\n",
              "      <td>3000</td>\n",
              "      <td>26000</td>\n",
              "    </tr>\n",
              "    <tr>\n",
              "      <th>8</th>\n",
              "      <td>9</td>\n",
              "      <td>5000</td>\n",
              "      <td>14000</td>\n",
              "      <td>2000</td>\n",
              "      <td>24000</td>\n",
              "    </tr>\n",
              "    <tr>\n",
              "      <th>9</th>\n",
              "      <td>10</td>\n",
              "      <td>5000</td>\n",
              "      <td>16000</td>\n",
              "      <td>3000</td>\n",
              "      <td>29000</td>\n",
              "    </tr>\n",
              "    <tr>\n",
              "      <th>10</th>\n",
              "      <td>11</td>\n",
              "      <td>6000</td>\n",
              "      <td>18000</td>\n",
              "      <td>3000</td>\n",
              "      <td>30000</td>\n",
              "    </tr>\n",
              "    <tr>\n",
              "      <th>11</th>\n",
              "      <td>12</td>\n",
              "      <td>6000</td>\n",
              "      <td>15000</td>\n",
              "      <td>2000</td>\n",
              "      <td>30000</td>\n",
              "    </tr>\n",
              "    <tr>\n",
              "      <th>12</th>\n",
              "      <td>13</td>\n",
              "      <td>6000</td>\n",
              "      <td>16000</td>\n",
              "      <td>5000</td>\n",
              "      <td>31000</td>\n",
              "    </tr>\n",
              "    <tr>\n",
              "      <th>13</th>\n",
              "      <td>14</td>\n",
              "      <td>6000</td>\n",
              "      <td>16000</td>\n",
              "      <td>4000</td>\n",
              "      <td>32000</td>\n",
              "    </tr>\n",
              "    <tr>\n",
              "      <th>14</th>\n",
              "      <td>15</td>\n",
              "      <td>5000</td>\n",
              "      <td>15000</td>\n",
              "      <td>5000</td>\n",
              "      <td>29000</td>\n",
              "    </tr>\n",
              "    <tr>\n",
              "      <th>15</th>\n",
              "      <td>16</td>\n",
              "      <td>5000</td>\n",
              "      <td>18000</td>\n",
              "      <td>6000</td>\n",
              "      <td>31000</td>\n",
              "    </tr>\n",
              "    <tr>\n",
              "      <th>16</th>\n",
              "      <td>17</td>\n",
              "      <td>6000</td>\n",
              "      <td>18000</td>\n",
              "      <td>6000</td>\n",
              "      <td>33000</td>\n",
              "    </tr>\n",
              "    <tr>\n",
              "      <th>17</th>\n",
              "      <td>18</td>\n",
              "      <td>6000</td>\n",
              "      <td>20000</td>\n",
              "      <td>7000</td>\n",
              "      <td>34000</td>\n",
              "    </tr>\n",
              "    <tr>\n",
              "      <th>18</th>\n",
              "      <td>19</td>\n",
              "      <td>5000</td>\n",
              "      <td>17000</td>\n",
              "      <td>5000</td>\n",
              "      <td>34000</td>\n",
              "    </tr>\n",
              "    <tr>\n",
              "      <th>19</th>\n",
              "      <td>20</td>\n",
              "      <td>8000</td>\n",
              "      <td>15000</td>\n",
              "      <td>5000</td>\n",
              "      <td>31000</td>\n",
              "    </tr>\n",
              "    <tr>\n",
              "      <th>20</th>\n",
              "      <td>21</td>\n",
              "      <td>7000</td>\n",
              "      <td>17000</td>\n",
              "      <td>6000</td>\n",
              "      <td>33000</td>\n",
              "    </tr>\n",
              "    <tr>\n",
              "      <th>21</th>\n",
              "      <td>22</td>\n",
              "      <td>7000</td>\n",
              "      <td>18000</td>\n",
              "      <td>6000</td>\n",
              "      <td>37000</td>\n",
              "    </tr>\n",
              "    <tr>\n",
              "      <th>22</th>\n",
              "      <td>23</td>\n",
              "      <td>8000</td>\n",
              "      <td>20000</td>\n",
              "      <td>8000</td>\n",
              "      <td>38000</td>\n",
              "    </tr>\n",
              "  </tbody>\n",
              "</table>\n",
              "</div>"
            ],
            "text/plain": [
              "    Mes  Salario_Vendedores  ...  Investimento_Marketing  Faturamento\n",
              "0     1                2000  ...                    4000        22000\n",
              "1     2                2000  ...                    4000        23000\n",
              "2     3                2000  ...                    3000        18000\n",
              "3     4                2000  ...                    2000        17000\n",
              "4     5                4000  ...                    4000        22000\n",
              "5     6                4000  ...                    5000        24000\n",
              "6     7                4000  ...                    5000        27000\n",
              "7     8                4000  ...                    3000        26000\n",
              "8     9                5000  ...                    2000        24000\n",
              "9    10                5000  ...                    3000        29000\n",
              "10   11                6000  ...                    3000        30000\n",
              "11   12                6000  ...                    2000        30000\n",
              "12   13                6000  ...                    5000        31000\n",
              "13   14                6000  ...                    4000        32000\n",
              "14   15                5000  ...                    5000        29000\n",
              "15   16                5000  ...                    6000        31000\n",
              "16   17                6000  ...                    6000        33000\n",
              "17   18                6000  ...                    7000        34000\n",
              "18   19                5000  ...                    5000        34000\n",
              "19   20                8000  ...                    5000        31000\n",
              "20   21                7000  ...                    6000        33000\n",
              "21   22                7000  ...                    6000        37000\n",
              "22   23                8000  ...                    8000        38000\n",
              "\n",
              "[23 rows x 5 columns]"
            ]
          },
          "metadata": {
            "tags": []
          },
          "execution_count": 3
        }
      ]
    },
    {
      "cell_type": "code",
      "metadata": {
        "id": "tCzEy5tlHc8r"
      },
      "source": [
        "dados[\"Lucro\"] = dados[\"Faturamento\"] - (dados[\"Salario_Vendedores\"] + dados[\"Investimento_Mercadoria\"] + dados[\"Investimento_Marketing\"])"
      ],
      "execution_count": null,
      "outputs": []
    },
    {
      "cell_type": "code",
      "metadata": {
        "colab": {
          "base_uri": "https://localhost:8080/",
          "height": 771
        },
        "id": "2P5MhdPbNVKI",
        "outputId": "ecf2a6c5-896c-4425-9fbc-8ccea87d461c"
      },
      "source": [
        "dados"
      ],
      "execution_count": null,
      "outputs": [
        {
          "output_type": "execute_result",
          "data": {
            "text/html": [
              "<div>\n",
              "<style scoped>\n",
              "    .dataframe tbody tr th:only-of-type {\n",
              "        vertical-align: middle;\n",
              "    }\n",
              "\n",
              "    .dataframe tbody tr th {\n",
              "        vertical-align: top;\n",
              "    }\n",
              "\n",
              "    .dataframe thead th {\n",
              "        text-align: right;\n",
              "    }\n",
              "</style>\n",
              "<table border=\"1\" class=\"dataframe\">\n",
              "  <thead>\n",
              "    <tr style=\"text-align: right;\">\n",
              "      <th></th>\n",
              "      <th>Mes</th>\n",
              "      <th>Salario_Vendedores</th>\n",
              "      <th>Investimento_Mercadoria</th>\n",
              "      <th>Investimento_Marketing</th>\n",
              "      <th>Faturamento</th>\n",
              "      <th>Lucro</th>\n",
              "    </tr>\n",
              "  </thead>\n",
              "  <tbody>\n",
              "    <tr>\n",
              "      <th>0</th>\n",
              "      <td>1</td>\n",
              "      <td>2000</td>\n",
              "      <td>10000</td>\n",
              "      <td>4000</td>\n",
              "      <td>22000</td>\n",
              "      <td>6000</td>\n",
              "    </tr>\n",
              "    <tr>\n",
              "      <th>1</th>\n",
              "      <td>2</td>\n",
              "      <td>2000</td>\n",
              "      <td>12000</td>\n",
              "      <td>4000</td>\n",
              "      <td>23000</td>\n",
              "      <td>5000</td>\n",
              "    </tr>\n",
              "    <tr>\n",
              "      <th>2</th>\n",
              "      <td>3</td>\n",
              "      <td>2000</td>\n",
              "      <td>10000</td>\n",
              "      <td>3000</td>\n",
              "      <td>18000</td>\n",
              "      <td>3000</td>\n",
              "    </tr>\n",
              "    <tr>\n",
              "      <th>3</th>\n",
              "      <td>4</td>\n",
              "      <td>2000</td>\n",
              "      <td>8000</td>\n",
              "      <td>2000</td>\n",
              "      <td>17000</td>\n",
              "      <td>5000</td>\n",
              "    </tr>\n",
              "    <tr>\n",
              "      <th>4</th>\n",
              "      <td>5</td>\n",
              "      <td>4000</td>\n",
              "      <td>12000</td>\n",
              "      <td>4000</td>\n",
              "      <td>22000</td>\n",
              "      <td>2000</td>\n",
              "    </tr>\n",
              "    <tr>\n",
              "      <th>5</th>\n",
              "      <td>6</td>\n",
              "      <td>4000</td>\n",
              "      <td>15000</td>\n",
              "      <td>5000</td>\n",
              "      <td>24000</td>\n",
              "      <td>0</td>\n",
              "    </tr>\n",
              "    <tr>\n",
              "      <th>6</th>\n",
              "      <td>7</td>\n",
              "      <td>4000</td>\n",
              "      <td>10000</td>\n",
              "      <td>5000</td>\n",
              "      <td>27000</td>\n",
              "      <td>8000</td>\n",
              "    </tr>\n",
              "    <tr>\n",
              "      <th>7</th>\n",
              "      <td>8</td>\n",
              "      <td>4000</td>\n",
              "      <td>14000</td>\n",
              "      <td>3000</td>\n",
              "      <td>26000</td>\n",
              "      <td>5000</td>\n",
              "    </tr>\n",
              "    <tr>\n",
              "      <th>8</th>\n",
              "      <td>9</td>\n",
              "      <td>5000</td>\n",
              "      <td>14000</td>\n",
              "      <td>2000</td>\n",
              "      <td>24000</td>\n",
              "      <td>3000</td>\n",
              "    </tr>\n",
              "    <tr>\n",
              "      <th>9</th>\n",
              "      <td>10</td>\n",
              "      <td>5000</td>\n",
              "      <td>16000</td>\n",
              "      <td>3000</td>\n",
              "      <td>29000</td>\n",
              "      <td>5000</td>\n",
              "    </tr>\n",
              "    <tr>\n",
              "      <th>10</th>\n",
              "      <td>11</td>\n",
              "      <td>6000</td>\n",
              "      <td>18000</td>\n",
              "      <td>3000</td>\n",
              "      <td>30000</td>\n",
              "      <td>3000</td>\n",
              "    </tr>\n",
              "    <tr>\n",
              "      <th>11</th>\n",
              "      <td>12</td>\n",
              "      <td>6000</td>\n",
              "      <td>15000</td>\n",
              "      <td>2000</td>\n",
              "      <td>30000</td>\n",
              "      <td>7000</td>\n",
              "    </tr>\n",
              "    <tr>\n",
              "      <th>12</th>\n",
              "      <td>13</td>\n",
              "      <td>6000</td>\n",
              "      <td>16000</td>\n",
              "      <td>5000</td>\n",
              "      <td>31000</td>\n",
              "      <td>4000</td>\n",
              "    </tr>\n",
              "    <tr>\n",
              "      <th>13</th>\n",
              "      <td>14</td>\n",
              "      <td>6000</td>\n",
              "      <td>16000</td>\n",
              "      <td>4000</td>\n",
              "      <td>32000</td>\n",
              "      <td>6000</td>\n",
              "    </tr>\n",
              "    <tr>\n",
              "      <th>14</th>\n",
              "      <td>15</td>\n",
              "      <td>5000</td>\n",
              "      <td>15000</td>\n",
              "      <td>5000</td>\n",
              "      <td>29000</td>\n",
              "      <td>4000</td>\n",
              "    </tr>\n",
              "    <tr>\n",
              "      <th>15</th>\n",
              "      <td>16</td>\n",
              "      <td>5000</td>\n",
              "      <td>18000</td>\n",
              "      <td>6000</td>\n",
              "      <td>31000</td>\n",
              "      <td>2000</td>\n",
              "    </tr>\n",
              "    <tr>\n",
              "      <th>16</th>\n",
              "      <td>17</td>\n",
              "      <td>6000</td>\n",
              "      <td>18000</td>\n",
              "      <td>6000</td>\n",
              "      <td>33000</td>\n",
              "      <td>3000</td>\n",
              "    </tr>\n",
              "    <tr>\n",
              "      <th>17</th>\n",
              "      <td>18</td>\n",
              "      <td>6000</td>\n",
              "      <td>20000</td>\n",
              "      <td>7000</td>\n",
              "      <td>34000</td>\n",
              "      <td>1000</td>\n",
              "    </tr>\n",
              "    <tr>\n",
              "      <th>18</th>\n",
              "      <td>19</td>\n",
              "      <td>5000</td>\n",
              "      <td>17000</td>\n",
              "      <td>5000</td>\n",
              "      <td>34000</td>\n",
              "      <td>7000</td>\n",
              "    </tr>\n",
              "    <tr>\n",
              "      <th>19</th>\n",
              "      <td>20</td>\n",
              "      <td>8000</td>\n",
              "      <td>15000</td>\n",
              "      <td>5000</td>\n",
              "      <td>31000</td>\n",
              "      <td>3000</td>\n",
              "    </tr>\n",
              "    <tr>\n",
              "      <th>20</th>\n",
              "      <td>21</td>\n",
              "      <td>7000</td>\n",
              "      <td>17000</td>\n",
              "      <td>6000</td>\n",
              "      <td>33000</td>\n",
              "      <td>3000</td>\n",
              "    </tr>\n",
              "    <tr>\n",
              "      <th>21</th>\n",
              "      <td>22</td>\n",
              "      <td>7000</td>\n",
              "      <td>18000</td>\n",
              "      <td>6000</td>\n",
              "      <td>37000</td>\n",
              "      <td>6000</td>\n",
              "    </tr>\n",
              "    <tr>\n",
              "      <th>22</th>\n",
              "      <td>23</td>\n",
              "      <td>8000</td>\n",
              "      <td>20000</td>\n",
              "      <td>8000</td>\n",
              "      <td>38000</td>\n",
              "      <td>2000</td>\n",
              "    </tr>\n",
              "  </tbody>\n",
              "</table>\n",
              "</div>"
            ],
            "text/plain": [
              "    Mes  Salario_Vendedores  ...  Faturamento  Lucro\n",
              "0     1                2000  ...        22000   6000\n",
              "1     2                2000  ...        23000   5000\n",
              "2     3                2000  ...        18000   3000\n",
              "3     4                2000  ...        17000   5000\n",
              "4     5                4000  ...        22000   2000\n",
              "5     6                4000  ...        24000      0\n",
              "6     7                4000  ...        27000   8000\n",
              "7     8                4000  ...        26000   5000\n",
              "8     9                5000  ...        24000   3000\n",
              "9    10                5000  ...        29000   5000\n",
              "10   11                6000  ...        30000   3000\n",
              "11   12                6000  ...        30000   7000\n",
              "12   13                6000  ...        31000   4000\n",
              "13   14                6000  ...        32000   6000\n",
              "14   15                5000  ...        29000   4000\n",
              "15   16                5000  ...        31000   2000\n",
              "16   17                6000  ...        33000   3000\n",
              "17   18                6000  ...        34000   1000\n",
              "18   19                5000  ...        34000   7000\n",
              "19   20                8000  ...        31000   3000\n",
              "20   21                7000  ...        33000   3000\n",
              "21   22                7000  ...        37000   6000\n",
              "22   23                8000  ...        38000   2000\n",
              "\n",
              "[23 rows x 6 columns]"
            ]
          },
          "metadata": {
            "tags": []
          },
          "execution_count": 5
        }
      ]
    },
    {
      "cell_type": "code",
      "metadata": {
        "colab": {
          "base_uri": "https://localhost:8080/",
          "height": 497
        },
        "id": "NPlAI1rDNp75",
        "outputId": "d874e6a8-5153-4b9b-fbc8-5cb3b19d3872"
      },
      "source": [
        "plt.figure(figsize = (8, 8))\n",
        "plt.scatter(dados[\"Mes\"], dados[\"Lucro\"])\n",
        "plt.xlabel(\"Mês\")\n",
        "plt.ylabel(\"Lucro da Empresa (R$)\")\n",
        "plt.grid()\n",
        "plt.show()"
      ],
      "execution_count": null,
      "outputs": [
        {
          "output_type": "display_data",
          "data": {
            "image/png": "[encoded data removed]",
            "text/plain": [
              "<Figure size 576x576 with 1 Axes>"
            ]
          },
          "metadata": {
            "tags": [],
            "needs_background": "light"
          }
        }
      ]
    },
    {
      "cell_type": "code",
      "metadata": {
        "colab": {
          "base_uri": "https://localhost:8080/",
          "height": 497
        },
        "id": "tukdAivGHv64",
        "outputId": "c28669c1-8d20-440d-ad31-390b41ae0fdb"
      },
      "source": [
        "plt.figure(figsize = (8, 8))\n",
        "plt.scatter(dados[\"Salario_Vendedores\"], dados[\"Lucro\"])\n",
        "plt.xlabel(\"Folha Salarial (R$)\")\n",
        "plt.ylabel(\"Lucro da Empresa (R$)\")\n",
        "plt.grid()\n",
        "plt.show()"
      ],
      "execution_count": null,
      "outputs": [
        {
          "output_type": "display_data",
          "data": {
            "image/png": "[encoded data removed]",
            "text/plain": [
              "<Figure size 576x576 with 1 Axes>"
            ]
          },
          "metadata": {
            "tags": [],
            "needs_background": "light"
          }
        }
      ]
    },
    {
      "cell_type": "code",
      "metadata": {
        "colab": {
          "base_uri": "https://localhost:8080/",
          "height": 497
        },
        "id": "QevDsKTzIgDL",
        "outputId": "887749ef-4e5b-44cf-e546-e74e52ae2f17"
      },
      "source": [
        "plt.figure(figsize = (8, 8))\n",
        "plt.scatter(dados[\"Investimento_Marketing\"], dados[\"Lucro\"])\n",
        "plt.xlabel(\"Investimento em Marketing (R$)\")\n",
        "plt.ylabel(\"Lucro da Empresa (R$)\")\n",
        "plt.grid()\n",
        "plt.show()"
      ],
      "execution_count": null,
      "outputs": [
        {
          "output_type": "display_data",
          "data": {
            "image/png": "[encoded data removed]",
            "text/plain": [
              "<Figure size 576x576 with 1 Axes>"
            ]
          },
          "metadata": {
            "tags": [],
            "needs_background": "light"
          }
        }
      ]
    },
    {
      "cell_type": "code",
      "metadata": {
        "colab": {
          "base_uri": "https://localhost:8080/",
          "height": 497
        },
        "id": "eMwueMKSIomb",
        "outputId": "e96e4ba2-7e26-492d-f1ed-b147a2ce9447"
      },
      "source": [
        "plt.figure(figsize = (8, 8))\n",
        "plt.scatter(dados[\"Investimento_Mercadoria\"], dados[\"Lucro\"])\n",
        "plt.xlabel(\"Investimento em Mercadorias (R$)\")\n",
        "plt.ylabel(\"Lucro da Empresa (R$)\")\n",
        "plt.grid()\n",
        "plt.show()"
      ],
      "execution_count": null,
      "outputs": [
        {
          "output_type": "display_data",
          "data": {
            "image/png": "[encoded data removed]",
            "text/plain": [
              "<Figure size 576x576 with 1 Axes>"
            ]
          },
          "metadata": {
            "tags": [],
            "needs_background": "light"
          }
        }
      ]
    },
    {
      "cell_type": "markdown",
      "metadata": {
        "id": "Y-Nah193I-38"
      },
      "source": [
        "<h1><b> Para o mês anterior (mês 23), com lucro de 2000, os investimentos foram (em R$): </b> <br>\n",
        "Folha Salarial: 8000 <br>\n",
        "Investimento em Mercadorias: 20000 <br>\n",
        "Investimento em Marketing: 8000 <br>\n",
        "<br> <b>Mantendo os mesmos 36000 investidos, que combinação de variáveis tende a dar um lucro maior para o mês corrente (mês 24)?"
      ]
    },
    {
      "cell_type": "code",
      "metadata": {
        "id": "L-LKyW39I9oz"
      },
      "source": [
        "from sklearn.linear_model import LinearRegression"
      ],
      "execution_count": null,
      "outputs": []
    },
    {
      "cell_type": "code",
      "metadata": {
        "colab": {
          "base_uri": "https://localhost:8080/"
        },
        "id": "da-jaMIGOh2o",
        "outputId": "eaa86101-4aa1-4ba0-c2b5-312ba2ec05b4"
      },
      "source": [
        "dados.columns"
      ],
      "execution_count": null,
      "outputs": [
        {
          "output_type": "execute_result",
          "data": {
            "text/plain": [
              "Index(['Mes', 'Salario_Vendedores', 'Investimento_Mercadoria',\n",
              "       'Investimento_Marketing', 'Faturamento', 'Lucro'],\n",
              "      dtype='object')"
            ]
          },
          "metadata": {
            "tags": []
          },
          "execution_count": 11
        }
      ]
    },
    {
      "cell_type": "code",
      "metadata": {
        "id": "6DbXAgQtOd4W"
      },
      "source": [
        "x_train = dados[['Mes', 'Salario_Vendedores', 'Investimento_Mercadoria', 'Investimento_Marketing']].values\n",
        "y_train = dados['Lucro'].values"
      ],
      "execution_count": null,
      "outputs": []
    },
    {
      "cell_type": "code",
      "metadata": {
        "id": "yE_TRXpkOatK"
      },
      "source": [
        "#Aplicando ajuste (treinando algoritmo)\n",
        "model = LinearRegression().fit(x_train, y_train)"
      ],
      "execution_count": null,
      "outputs": []
    },
    {
      "cell_type": "code",
      "metadata": {
        "id": "3utBPc_4SEyk"
      },
      "source": [
        "melhor_resultado = 0"
      ],
      "execution_count": null,
      "outputs": []
    },
    {
      "cell_type": "code",
      "metadata": {
        "colab": {
          "base_uri": "https://localhost:8080/"
        },
        "id": "3mBkoSMZPWIX",
        "outputId": "208e1df4-d1c3-4253-9389-08a06c4fedfa"
      },
      "source": [
        "#Avaliando tendência\n",
        "teste = {\"Mês\" : 24,\n",
        "         \"Salário\" : 11000,\n",
        "         \"Mercadorias\" : 17000,\n",
        "         \"Marketing\" : 8000\n",
        "         }\n",
        "\n",
        "resultado = model.predict(np.array([teste[\"Mês\"], teste[\"Salário\"], teste[\"Mercadorias\"], teste[\"Marketing\"]]).reshape(1, -1))[-1]\n",
        "print(\"O lucro tenderia a ser de: \", resultado, \" R$\")\n",
        "\n",
        "if resultado > melhor_resultado:\n",
        "  melhor_resultado = resultado\n",
        "  melhor_combinacao = teste\n",
        "\n",
        "print(\"\\n Melhor combinação de valores até agora: \")\n",
        "print(melhor_combinacao)"
      ],
      "execution_count": null,
      "outputs": [
        {
          "output_type": "stream",
          "text": [
            "O lucro tenderia a ser de:  2440.327477065579  R$\n",
            "\n",
            " Melhor combinação de valores até agora: \n",
            "{'Mês': 24, 'Salário': 8000, 'Mercadorias': 20000, 'Marketing': 8000}\n"
          ],
          "name": "stdout"
        }
      ]
    },
    {
      "cell_type": "markdown",
      "metadata": {
        "id": "OYy2STmgTz7e"
      },
      "source": [
        "# Regressão Linear nem sempre consegue fazer uma estimativa exata, mas é uma boa ferramenta para avaliar tendências."
      ]
    }
  ]
}